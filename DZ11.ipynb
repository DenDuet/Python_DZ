{
 "cells": [
  {
   "cell_type": "markdown",
   "id": "a696be87",
   "metadata": {},
   "source": [
    "Дана функция f(x) = (sin(x)/2 + cos(x)/2)^2 * sin(x)\n",
    "Для решения используйте период\n",
    "\n",
    "1. Определить корни\n",
    "2. Найти интервалы, на которых функция возрастает\n",
    "3. Найти интервалы, на которых функция убывает\n",
    "4. Построить график\n",
    "5. Вычислить вершину\n",
    "6. Определить промежутки, на котором f > 0\n",
    "7. Определить промежутки, на котором f < 0"
   ]
  },
  {
   "cell_type": "markdown",
   "id": "4bd889e9",
   "metadata": {},
   "source": [
    "1. Определить корни"
   ]
  },
  {
   "cell_type": "code",
   "execution_count": 142,
   "id": "fb84529c",
   "metadata": {},
   "outputs": [
    {
     "name": "stdout",
     "output_type": "stream",
     "text": [
      "Корни уравнения на интервале (-pi, pi): \n",
      " 0 = 0.0\n",
      " pi = 3.14\n",
      " -pi = -3.14\n",
      " -pi/4 = -0.79\n",
      " 3*pi/4 = 2.36\n",
      "\n",
      "Максимумы и минимумы производной функции на интервале (-pi, pi):\n",
      " -pi/4 = -0.79\n",
      " 3*pi/4 = 2.36\n",
      " -2*atan(-3/2 + sqrt(6)*sqrt(5 - sqrt(17))/2 + sqrt(17)/2) = -2.08\n",
      " 2*atan(3/2 + sqrt(17)/2 + sqrt(6)*sqrt(sqrt(17) + 5)/2) = 2.87\n",
      " 2*atan(-sqrt(17)/2 + sqrt(6)*sqrt(5 - sqrt(17))/2 + 3/2) = 1.06\n",
      " 2*atan(-sqrt(6)*sqrt(sqrt(17) + 5)/2 + 3/2 + sqrt(17)/2) = -0.27\n"
     ]
    }
   ],
   "source": [
    "from sympy import *\n",
    "# import numpy as np\n",
    "import math\n",
    "\n",
    "\n",
    "x = Symbol('X')\n",
    "y = (sin(x)/2 + cos(x)/2)**2 * sin(x)\n",
    "expr = solveset(y,x,Interval(-pi, pi))\n",
    "print(f\"Корни уравнения на интервале (-pi, pi): \")\n",
    "for i in expr:\n",
    "    print(f\" {i} = {round(float(i),2)}\")\n",
    "\n",
    "pik = solve(diff(y))\n",
    "print(f\"\\nМаксимумы и минимумы производной функции на интервале (-pi, pi):\")\n",
    "for i in pik:\n",
    "    print(f\" {i} = {round(float(i),2)}\")"
   ]
  },
  {
   "cell_type": "markdown",
   "id": "63660579",
   "metadata": {},
   "source": [
    "2. Найти интервалы, на которых функция возрастает"
   ]
  },
  {
   "cell_type": "code",
   "execution_count": 141,
   "id": "40cc413d",
   "metadata": {},
   "outputs": [
    {
     "name": "stdout",
     "output_type": "stream",
     "text": [
      "Интервалы возрастания функции на интервале (-pi, pi): \n",
      "(-2.08, -0.79),\n",
      "(-0.27, 1.06),\n",
      "(2.36, 2.87)\n",
      "\n"
     ]
    }
   ],
   "source": [
    "print(f'''Интервалы возрастания функции на интервале (-pi, pi): \\n({round(float(-2*atan(-3/2 + sqrt(6)*sqrt(5 - sqrt(17))/2 + sqrt(17)/2)),2)}, {round(float(-pi/4),2)}),\n",
    "({round(float(2*atan(-sqrt(6)*sqrt(sqrt(17) + 5)/2 + 3/2 + sqrt(17)/2)),2)}, {round(float(2*atan(-sqrt(17)/2 + sqrt(6)*sqrt(5 - sqrt(17))/2 + 3/2)),2)}),\n",
    "({round(float(3*pi/4),2)}, {round(float(2*atan(3/2 + sqrt(17)/2 + sqrt(6)*sqrt(sqrt(17) + 5)/2)),2)})\n",
    "''')"
   ]
  },
  {
   "cell_type": "markdown",
   "id": "265d8f9a",
   "metadata": {},
   "source": [
    "3. Найти интервалы, на которых функция убывает"
   ]
  },
  {
   "cell_type": "code",
   "execution_count": 140,
   "id": "f15edc3c",
   "metadata": {},
   "outputs": [
    {
     "name": "stdout",
     "output_type": "stream",
     "text": [
      "Интервалы убывания функции на интервале (-pi, pi): \n",
      "(-3.14, -2.08),\n",
      "(-0.79, -0.27),\n",
      "(1.06, 2.36),\n",
      "(2.87, 3.14)\n",
      "      \n"
     ]
    }
   ],
   "source": [
    "print(f'''Интервалы убывания функции на интервале (-pi, pi): \\n({round(float(-pi),2)}, {round(float(-2*atan(-3/2 + sqrt(6)*sqrt(5 - sqrt(17))/2 + sqrt(17)/2)),2)}),\n",
    "({round(float(-pi/4),2)}, {round(float(2*atan(-sqrt(6)*sqrt(sqrt(17) + 5)/2 + 3/2 + sqrt(17)/2)),2)}),\n",
    "({round(float(2*atan(-sqrt(17)/2 + sqrt(6)*sqrt(5 - sqrt(17))/2 + 3/2)),2)}, {round(float(3*pi/4),2)}),\n",
    "({round(float(2*atan(3/2 + sqrt(17)/2 + sqrt(6)*sqrt(sqrt(17) + 5)/2)),2)}, {round(float(pi),2)})\n",
    "      ''')"
   ]
  },
  {
   "cell_type": "markdown",
   "id": "6772cb06",
   "metadata": {},
   "source": [
    "4. Построить график"
   ]
  },
  {
   "cell_type": "code",
   "execution_count": 82,
   "id": "f57dcb0f",
   "metadata": {},
   "outputs": [
    {
     "data": {
      "image/png": "[encoded data removed]",
      "text/plain": [
       "<Figure size 432x288 with 1 Axes>"
      ]
     },
     "metadata": {
      "needs_background": "light"
     },
     "output_type": "display_data"
    }
   ],
   "source": [
    "graf = plot(y,(x,-pi,pi))"
   ]
  },
  {
   "cell_type": "markdown",
   "id": "e6ec5887",
   "metadata": {},
   "source": [
    "5. Вычислить вершину"
   ]
  },
  {
   "cell_type": "code",
   "execution_count": 139,
   "id": "c30817ca",
   "metadata": {},
   "outputs": [
    {
     "name": "stdout",
     "output_type": "stream",
     "text": [
      "Вершины функции на интервале (-pi, pi):\n",
      "(-2.08, -0.79, \n",
      " -0.27, 1.06,\n",
      " 2.36, 2.87)\n",
      "\n"
     ]
    }
   ],
   "source": [
    "print(f\"\"\"Вершины функции на интервале (-pi, pi):\n",
    "({round(float(-2*atan(-3/2 + sqrt(6)*sqrt(5 - sqrt(17))/2 + sqrt(17)/2)),2)}, {round(float(-pi/4),2)}, \n",
    " {round(float(2*atan(-sqrt(6)*sqrt(sqrt(17) + 5)/2 + 3/2 + sqrt(17)/2)),2)}, {round(float(2*atan(-sqrt(17)/2 + sqrt(6)*sqrt(5 - sqrt(17))/2 + 3/2)),2)},\n",
    " {round(float(3*pi/4),2)}, {round(float(2*atan(3/2 + sqrt(17)/2 + sqrt(6)*sqrt(sqrt(17) + 5)/2)),2)})\n",
    "\"\"\")                               "
   ]
  },
  {
   "cell_type": "markdown",
   "id": "701df36b",
   "metadata": {},
   "source": [
    "6. Определить промежутки, на котором f > 0"
   ]
  },
  {
   "cell_type": "code",
   "execution_count": 138,
   "id": "4784b9a8",
   "metadata": {},
   "outputs": [
    {
     "name": "stdout",
     "output_type": "stream",
     "text": [
      "Функция больше 0 на интервале (-pi, pi) в промежутках: (0, 2.36) и (2.36, 3.14)\n",
      "\n"
     ]
    }
   ],
   "source": [
    "print(f\"\"\"Функция больше 0 на интервале (-pi, pi) в промежутках: (0, {round(float(3*pi/4),2)}) и ({round(float(3*pi/4),2)}, {round(float(pi),2)})\n",
    "\"\"\")"
   ]
  },
  {
   "cell_type": "markdown",
   "id": "0e2d3064",
   "metadata": {},
   "source": [
    "7. Определить промежутки, на котором f < 0"
   ]
  },
  {
   "cell_type": "code",
   "execution_count": 143,
   "id": "a343ea81",
   "metadata": {},
   "outputs": [
    {
     "name": "stdout",
     "output_type": "stream",
     "text": [
      "Функция меньше 0 на интервале (-pi, pi) в промежутках: (-3.14, -0.79) и (-0.79, 0)\n",
      "\n"
     ]
    }
   ],
   "source": [
    "print(f\"\"\"Функция меньше 0 на интервале (-pi, pi) в промежутках: ({round(float(-pi),2)}, {round(float(-pi/4),2)}) и ({round(float(-pi/4),2)}, 0)\n",
    "\"\"\")"
   ]
  },
  {
   "cell_type": "code",
   "execution_count": null,
   "id": "49805fbc",
   "metadata": {},
   "outputs": [],
   "source": []
  }
 ],
 "metadata": {
  "kernelspec": {
   "display_name": "Python 3 (ipykernel)",
   "language": "python",
   "name": "python3"
  },
  "language_info": {
   "codemirror_mode": {
    "name": "ipython",
    "version": 3
   },
   "file_extension": ".py",
   "mimetype": "text/x-python",
   "name": "python",
   "nbconvert_exporter": "python",
   "pygments_lexer": "ipython3",
   "version": "3.9.12"
  }
 },
 "nbformat": 4,
 "nbformat_minor": 5
}
