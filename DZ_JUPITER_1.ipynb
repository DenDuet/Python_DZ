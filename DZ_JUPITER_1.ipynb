{
 "cells": [
  {
   "cell_type": "markdown",
   "id": "4cad13cd",
   "metadata": {},
   "source": [
    "Дана функция f(x) = 5x^2 + 10x - 30\n",
    "\n",
    "1. Определить корни\n",
    "2. Найти интервалы, на которых функция возрастает\n",
    "3. Найти интервалы, на которых функция убывает\n",
    "4. Построить график\n",
    "5. Вычислить вершину\n",
    "6. Определить промежутки, на котором f > 0\n",
    "7. Определить промежутки, на котором f < 0"
   ]
  },
  {
   "cell_type": "markdown",
   "id": "e9f8df2e",
   "metadata": {},
   "source": [
    "1. Определить корни"
   ]
  },
  {
   "cell_type": "code",
   "execution_count": 42,
   "id": "b5d06e9f",
   "metadata": {},
   "outputs": [
    {
     "name": "stdout",
     "output_type": "stream",
     "text": [
      "Кореней два = -sqrt(7) - 1 и -1 + sqrt(7)\n"
     ]
    }
   ],
   "source": [
    "from sympy import *\n",
    "\n",
    "x = Symbol('X')\n",
    "y = 5*x**2 + 10*x - 30\n",
    "expr = solve(y,x)\n",
    "a,b,c  = poly(y).coeffs()\n",
    "if len(expr) == 0:\n",
    "    print(\"Корней нет.\")\n",
    "elif len(expr) == 1:\n",
    "    min = max = expr[0]\n",
    "    print(f\"Корень один = {expr}\")\n",
    "    ver= -b / (2 * a)\n",
    "elif len(expr) == 2:\n",
    "    if expr[0] > expr[1]:\n",
    "        min = expr[1]\n",
    "        max = expr[0]\n",
    "    else:\n",
    "        min = expr[0]\n",
    "        max = expr[1]\n",
    "    print(f\"Кореней два = {min} и {max}\")\n",
    "    ver= -b / (2 * a)"
   ]
  },
  {
   "cell_type": "markdown",
   "id": "0a69983f",
   "metadata": {},
   "source": [
    "2. Найти интервалы, на которых функция возрастает"
   ]
  },
  {
   "cell_type": "code",
   "execution_count": 46,
   "id": "8a951744",
   "metadata": {},
   "outputs": [
    {
     "name": "stdout",
     "output_type": "stream",
     "text": [
      "Функция возрастает в диапазоне = (-1, +oo)\n"
     ]
    }
   ],
   "source": [
    "if len(expr) == 2 or len(expr) == 1:\n",
    "    print(f\"Функция возрастает в диапазоне = ({ver}, +{oo})\")"
   ]
  },
  {
   "cell_type": "markdown",
   "id": "8facbda3",
   "metadata": {},
   "source": [
    "3. Найти интервалы, на которых функция убывает"
   ]
  },
  {
   "cell_type": "code",
   "execution_count": 45,
   "id": "227e51ff",
   "metadata": {},
   "outputs": [
    {
     "name": "stdout",
     "output_type": "stream",
     "text": [
      "Функция убывает в диапазоне = (-oo, -1)\n"
     ]
    }
   ],
   "source": [
    "if len(expr) == 2 or len(expr) == 1:\n",
    "    print(f\"Функция убывает в диапазоне = (-{oo}, {ver})\")"
   ]
  },
  {
   "cell_type": "markdown",
   "id": "91443b42",
   "metadata": {},
   "source": [
    "4. Построить график"
   ]
  },
  {
   "cell_type": "code",
   "execution_count": 20,
   "id": "469fd7a5",
   "metadata": {},
   "outputs": [
    {
     "data": {
      "image/png": "[encoded data removed]",
      "text/plain": [
       "<Figure size 432x288 with 1 Axes>"
      ]
     },
     "metadata": {
      "needs_background": "light"
     },
     "output_type": "display_data"
    }
   ],
   "source": [
    "graf = plot(y)"
   ]
  },
  {
   "cell_type": "markdown",
   "id": "f73f2649",
   "metadata": {},
   "source": [
    "5. Вычислить вершину"
   ]
  },
  {
   "cell_type": "code",
   "execution_count": 47,
   "id": "47051677",
   "metadata": {},
   "outputs": [
    {
     "name": "stdout",
     "output_type": "stream",
     "text": [
      "Вершина: ( -1 ,  -35 )\n"
     ]
    }
   ],
   "source": [
    "a,b,c  = poly(y).coeffs()\n",
    "print (\"Вершина: (\" , (-b / (2 * a)) , \", \",(((4 * a * c) - (b * b)) / (4 * a)) , \")\" )"
   ]
  },
  {
   "cell_type": "markdown",
   "id": "44a29d62",
   "metadata": {},
   "source": [
    "6. Определить промежутки, на котором f > 0"
   ]
  },
  {
   "cell_type": "code",
   "execution_count": 50,
   "id": "6ce19391",
   "metadata": {},
   "outputs": [
    {
     "name": "stdout",
     "output_type": "stream",
     "text": [
      "Функция >0 в диапазонах = (-oo, -sqrt(7) - 1) и (-1 + sqrt(7), +oo)\n"
     ]
    }
   ],
   "source": [
    "if len(expr) == 2 or len(expr) == 1:\n",
    "    print(f\"Функция >0 в диапазонах = (-{oo}, {min}) и ({max}, +{oo})\")"
   ]
  },
  {
   "cell_type": "markdown",
   "id": "694d27e0",
   "metadata": {},
   "source": [
    "7. Определить промежутки, на котором f < 0"
   ]
  },
  {
   "cell_type": "code",
   "execution_count": 51,
   "id": "8a94cc97",
   "metadata": {},
   "outputs": [
    {
     "name": "stdout",
     "output_type": "stream",
     "text": [
      "Функция <0 в диапазоне = (-sqrt(7) - 1, -1 + sqrt(7))\n"
     ]
    }
   ],
   "source": [
    "if len(expr) == 2 or len(expr) == 1:\n",
    "    print(f\"Функция <0 в диапазоне = ({min}, {max})\")"
   ]
  }
 ],
 "metadata": {
  "kernelspec": {
   "display_name": "Python 3 (ipykernel)",
   "language": "python",
   "name": "python3"
  },
  "language_info": {
   "codemirror_mode": {
    "name": "ipython",
    "version": 3
   },
   "file_extension": ".py",
   "mimetype": "text/x-python",
   "name": "python",
   "nbconvert_exporter": "python",
   "pygments_lexer": "ipython3",
   "version": "3.9.12"
  }
 },
 "nbformat": 4,
 "nbformat_minor": 5
}
